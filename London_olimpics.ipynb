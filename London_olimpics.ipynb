{
 "cells": [
  {
   "cell_type": "code",
   "execution_count": 7,
   "metadata": {},
   "outputs": [],
   "source": [
    "import numpy as np"
   ]
  },
  {
   "cell_type": "code",
   "execution_count": 8,
   "metadata": {},
   "outputs": [],
   "source": [
    "# Data from London Oympics, 2012\n",
    "Countries = np.array(['Great Britain', 'China' , 'Russia', 'United States', 'Korea', 'Japan', 'Germany'])\n",
    "Gold=np.array([29,38,24,46,13,7,11])\n",
    "Silver=np.array([17,28,25,28,8,14,11])\n",
    "Bronze=np.array([19,22,32,29,7,17,14])"
   ]
  },
  {
   "cell_type": "code",
   "execution_count": 9,
   "metadata": {},
   "outputs": [
    {
     "name": "stdout",
     "output_type": "stream",
     "text": [
      "United States\n"
     ]
    }
   ],
   "source": [
    "Max_Gold = Gold.argmax()\n",
    "country_with_max_gold = Countries[Max_Gold]\n",
    "print (country_with_max_gold)"
   ]
  },
  {
   "cell_type": "code",
   "execution_count": 10,
   "metadata": {},
   "outputs": [
    {
     "name": "stdout",
     "output_type": "stream",
     "text": [
      "['Great Britain' 'China' 'Russia' 'United States']\n"
     ]
    }
   ],
   "source": [
    "print(Countries[Gold>20])"
   ]
  },
  {
   "cell_type": "code",
   "execution_count": 15,
   "metadata": {},
   "outputs": [
    {
     "name": "stdout",
     "output_type": "stream",
     "text": [
      "Gold medal 29 and total medal won 65 are for Great Britain respectively.\n",
      "Gold medal 38 and total medal won 88 are for China respectively.\n",
      "Gold medal 24 and total medal won 81 are for Russia respectively.\n",
      "Gold medal 46 and total medal won 103 are for United States respectively.\n",
      "Gold medal 13 and total medal won 28 are for Korea respectively.\n",
      "Gold medal 7 and total medal won 38 are for Japan respectively.\n",
      "Gold medal 11 and total medal won 36 are for Germany respectively.\n"
     ]
    }
   ],
   "source": [
    "for i in range(len(Countries)):\n",
    "    gold_medal = Gold[i]\n",
    "    country = Countries[i]\n",
    "    total_medal = Bronze[i]+Silver[i]+Gold[i]\n",
    "    print('Gold medal {} and total medal won {} are for {} respectively.'.format(gold_medal,total_medal,country))"
   ]
  },
  {
   "cell_type": "code",
   "execution_count": null,
   "metadata": {},
   "outputs": [],
   "source": []
  }
 ],
 "metadata": {
  "kernelspec": {
   "display_name": "Python 3",
   "language": "python",
   "name": "python3"
  },
  "language_info": {
   "codemirror_mode": {
    "name": "ipython",
    "version": 3
   },
   "file_extension": ".py",
   "mimetype": "text/x-python",
   "name": "python",
   "nbconvert_exporter": "python",
   "pygments_lexer": "ipython3",
   "version": "3.8.3"
  }
 },
 "nbformat": 4,
 "nbformat_minor": 4
}
